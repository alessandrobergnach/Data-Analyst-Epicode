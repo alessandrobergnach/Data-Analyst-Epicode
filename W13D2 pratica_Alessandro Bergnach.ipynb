{
 "cells": [
  {
   "cell_type": "code",
   "execution_count": 1,
   "id": "1e9a6daf-f3e5-4d85-a383-5edaadf59276",
   "metadata": {},
   "outputs": [],
   "source": [
    "my_list = [0,1,2,3,4,5]"
   ]
  },
  {
   "cell_type": "code",
   "execution_count": 2,
   "id": "07fb2d7b-3ad0-4d4a-bec2-973a59f1fca4",
   "metadata": {
    "tags": []
   },
   "outputs": [
    {
     "name": "stdout",
     "output_type": "stream",
     "text": [
      "[0, 1, 2, 3, 4, 5]\n"
     ]
    }
   ],
   "source": [
    "print (my_list)"
   ]
  },
  {
   "cell_type": "code",
   "execution_count": 3,
   "id": "3d1f02a4-3687-4765-b4de-d8c83bf5e20f",
   "metadata": {
    "tags": []
   },
   "outputs": [],
   "source": [
    "my_movies = [\"rambo\", \"rocky\", \"top_gun\"]"
   ]
  },
  {
   "cell_type": "code",
   "execution_count": 15,
   "id": "bf37a37d-9c52-4949-93e9-ba59a99a5933",
   "metadata": {
    "tags": []
   },
   "outputs": [
    {
     "name": "stdout",
     "output_type": "stream",
     "text": [
      "I miei film preferiti sono: ['rambo', 'rocky', 'top_gun']\n"
     ]
    }
   ],
   "source": [
    "print (\"I miei film preferiti sono:\", my_movies)"
   ]
  },
  {
   "cell_type": "code",
   "execution_count": 18,
   "id": "2e42247e-ea6f-473a-b13a-f47c94b90f06",
   "metadata": {
    "tags": []
   },
   "outputs": [
    {
     "name": "stdout",
     "output_type": "stream",
     "text": [
      "I miei film preferiti sono:rambo rocky top_gun\n"
     ]
    }
   ],
   "source": [
    "print (\"I miei film preferiti sono:\" + \" \".join( my_movies))"
   ]
  },
  {
   "cell_type": "code",
   "execution_count": 4,
   "id": "cf26eafe-bf47-4245-9431-b1a9404672d9",
   "metadata": {
    "tags": []
   },
   "outputs": [],
   "source": [
    "nome_scuola = \"Epicode\""
   ]
  },
  {
   "cell_type": "code",
   "execution_count": 7,
   "id": "55d12a1b-19c5-4c39-a63c-f22de2a3a5e7",
   "metadata": {
    "tags": []
   },
   "outputs": [
    {
     "data": {
      "text/plain": [
       "'E'"
      ]
     },
     "execution_count": 7,
     "metadata": {},
     "output_type": "execute_result"
    }
   ],
   "source": [
    "nome_scuola [0]"
   ]
  },
  {
   "cell_type": "code",
   "execution_count": 9,
   "id": "9b56285f-07fe-434f-9e20-8e2c03f5b062",
   "metadata": {
    "tags": []
   },
   "outputs": [
    {
     "data": {
      "text/plain": [
       "'Epi'"
      ]
     },
     "execution_count": 9,
     "metadata": {},
     "output_type": "execute_result"
    }
   ],
   "source": [
    "nome_scuola [0:3]"
   ]
  },
  {
   "cell_type": "code",
   "execution_count": 10,
   "id": "353cf897-9c6d-44e5-8b77-097fd98dcecd",
   "metadata": {
    "tags": []
   },
   "outputs": [],
   "source": [
    "x = 10"
   ]
  },
  {
   "cell_type": "code",
   "execution_count": 11,
   "id": "53abc679-9f3d-4940-9983-96c896eb190c",
   "metadata": {
    "tags": []
   },
   "outputs": [],
   "source": [
    "x = (x + 2)*3"
   ]
  },
  {
   "cell_type": "code",
   "execution_count": 12,
   "id": "d2d1785c-5b38-4d99-8ae3-c6dab83d6b3d",
   "metadata": {
    "tags": []
   },
   "outputs": [
    {
     "name": "stdout",
     "output_type": "stream",
     "text": [
      "36\n"
     ]
    }
   ],
   "source": [
    "print (x)"
   ]
  },
  {
   "cell_type": "code",
   "execution_count": 23,
   "id": "b9b1c91f-80cc-410b-83e5-c5f950e045be",
   "metadata": {
    "tags": []
   },
   "outputs": [
    {
     "ename": "TypeError",
     "evalue": "'set' object is not callable",
     "output_type": "error",
     "traceback": [
      "\u001b[1;31m---------------------------------------------------------------------------\u001b[0m",
      "\u001b[1;31mTypeError\u001b[0m                                 Traceback (most recent call last)",
      "Cell \u001b[1;32mIn[23], line 1\u001b[0m\n\u001b[1;32m----> 1\u001b[0m parola \u001b[38;5;241m=\u001b[39m \u001b[38;5;28minput\u001b[39m (\u001b[38;5;124m\"\u001b[39m\u001b[38;5;124minserisci una parola\u001b[39m\u001b[38;5;124m\"\u001b[39m)\n\u001b[0;32m      2\u001b[0m \u001b[38;5;28mprint\u001b[39m (\n\u001b[0;32m      3\u001b[0m     \u001b[38;5;124mf\u001b[39m\u001b[38;5;124m\"\u001b[39m\u001b[38;5;132;01m{\u001b[39;00mparola[:\u001b[38;5;241m3\u001b[39m]\u001b[38;5;132;01m}\u001b[39;00m\u001b[38;5;124m, ... ,\u001b[39m\u001b[38;5;132;01m{\u001b[39;00mparola[\u001b[38;5;241m-\u001b[39m\u001b[38;5;241m3\u001b[39m:]\u001b[38;5;132;01m}\u001b[39;00m\u001b[38;5;124m\"\u001b[39m \n\u001b[0;32m      4\u001b[0m     )\n",
      "\u001b[1;31mTypeError\u001b[0m: 'set' object is not callable"
     ]
    }
   ],
   "source": [
    "parola = input (\"inserisci una parola\")\n",
    "print (\n",
    "    f\"{parola[:3]}, ... ,{parola[-3:]}\" \n",
    "    )"
   ]
  },
  {
   "cell_type": "code",
   "execution_count": 32,
   "id": "ea9ba18f-dbe9-43fe-b9be-6f1cee16d206",
   "metadata": {
    "tags": []
   },
   "outputs": [],
   "source": [
    "win = \"Windowss\"\n",
    "xls = \"Excel\"\n",
    "ppt = \"Powerpoint\"\n",
    "doc = \"Word\""
   ]
  },
  {
   "cell_type": "code",
   "execution_count": 34,
   "id": "9ea1cbf4-3045-4460-8ee7-0d27a7d0aecd",
   "metadata": {
    "tags": []
   },
   "outputs": [
    {
     "name": "stdout",
     "output_type": "stream",
     "text": [
      "La parola è compresa fra 5 e 8\n"
     ]
    }
   ],
   "source": [
    "if len(win) in range (5,9):\n",
    "    print (\"La parola è compresa fra 5 e 8\")\n",
    "else:\n",
    "    print (\"La parola non è compresa fra 5 e 8\")"
   ]
  },
  {
   "cell_type": "code",
   "execution_count": 37,
   "id": "34ff0a11-e87b-4e5e-acae-41a89ffff4d8",
   "metadata": {
    "tags": []
   },
   "outputs": [],
   "source": [
    "lista_parole = [win, xls, ppt, doc]"
   ]
  },
  {
   "cell_type": "code",
   "execution_count": 38,
   "id": "33cebf89-280b-4a3c-b308-3f72f5bb19e0",
   "metadata": {
    "tags": []
   },
   "outputs": [
    {
     "name": "stdout",
     "output_type": "stream",
     "text": [
      "['Windowss', 'Excel', 'Powerpoint', 'Word']\n"
     ]
    }
   ],
   "source": [
    "print (lista_parole)"
   ]
  },
  {
   "cell_type": "code",
   "execution_count": 46,
   "id": "8313f6ea-ff32-432b-9380-7d5703d76e26",
   "metadata": {
    "tags": []
   },
   "outputs": [
    {
     "name": "stdout",
     "output_type": "stream",
     "text": [
      "Windowss è compreso fra 5 e 8\n",
      "Excel è compreso fra 5 e 8\n",
      "Powerpoint non è compreso fra 5 e 8\n",
      "Word non è compreso fra 5 e 8\n"
     ]
    }
   ],
   "source": [
    "for parola in lista_parole:\n",
    "    if len (parola) in range (5,9):\n",
    "        print (parola + \" è compreso fra 5 e 8\")\n",
    "    else: \n",
    "        print (parola + \" non è compreso fra 5 e 8\")\n",
    "                "
   ]
  },
  {
   "cell_type": "code",
   "execution_count": 47,
   "id": "57a8d4d9-0a51-4f57-a813-adc077efefe5",
   "metadata": {
    "tags": []
   },
   "outputs": [],
   "source": [
    "codici = [\"knt-s1\",\"cba-g9\",\"qtr-z8\"]"
   ]
  },
  {
   "cell_type": "code",
   "execution_count": 49,
   "id": "c2162ed2-8101-4d74-a4c5-1f4436330cc1",
   "metadata": {
    "tags": []
   },
   "outputs": [
    {
     "name": "stdout",
     "output_type": "stream",
     "text": [
      "-s1\n",
      "-g9\n",
      "-z8\n"
     ]
    }
   ],
   "source": [
    "for codice in codici:\n",
    "    print (codice[-3:])"
   ]
  },
  {
   "cell_type": "code",
   "execution_count": 58,
   "id": "79640060-b66a-44f9-aa9a-b41e7c438896",
   "metadata": {
    "tags": []
   },
   "outputs": [
    {
     "name": "stdout",
     "output_type": "stream",
     "text": [
      "['-S1', '-G9', '-Z8']\n"
     ]
    }
   ],
   "source": [
    "codici = [\"knt-S1\", \"cba-G9\", \"qtr-Z8\"]\n",
    "new_codici = []\n",
    "\n",
    "for codice in codici:\n",
    "    new_codici.append(codice[-3:])\n",
    " \n",
    "print(new_codici)"
   ]
  },
  {
   "cell_type": "code",
   "execution_count": 3,
   "id": "72d5fa16-3558-4293-b924-ed9627574e5d",
   "metadata": {},
   "outputs": [],
   "source": [
    "growth = {\"Tesla\", \"Shopify\", \"Block\", \"Etsy\", \"MercadoLibre\", \"Netflix\", \n",
    "          \"Amazon\", \"Meta Platforms\", \"Salesforce\", \"Alphabet\"} \n",
    "\n",
    "value = {\"Pfizer\", \"Johnson & Johnson\", \"JPMorgan Chase & Co.\", \"Wells Fargo & Co.\", \n",
    "         \"Verizon Communications\", \"BP PLC\", \"LyondellBasell Industries\", \"MetLife\", \"Interactive Brokers Group\", \"Intel\"}\n",
    "\n",
    "tech = {\"Apple\", \"Microsoft\", \"Alphabet\", \"Amazon\", \"NVIDIA\", \"Meta Platforms\", \"Tesla\", \"Alibaba\", \"Salesforce\", \n",
    "        \"Advanced Micro Devices\", \"Intel\", \"PayPal\", \"Activision Blizzard\", \"Electronic Arts\", \"The Trade Desk\", \"Zillow Group\", \"Match Group\", \"Yelp\"} \n",
    "\n",
    "healthcare = {\"UnitedHealth Group\", \"Johnson & Johnson\", \"Eli Lilly & Co.\", \"Novo Nordisk\", \n",
    "              \"Merck & Co.\", \"Roche Holding\", \"Pfizer\", \"Thermo Fisher Scientific\", \"Abbott Laboratories\"}"
   ]
  },
  {
   "cell_type": "code",
   "execution_count": 4,
   "id": "c4e58b74-0468-4a4f-8bf0-3b0795cf2100",
   "metadata": {},
   "outputs": [
    {
     "name": "stdout",
     "output_type": "stream",
     "text": [
      "{'Alphabet', 'Verizon Communications', 'LyondellBasell Industries', 'JPMorgan Chase & Co.', 'MercadoLibre', 'Johnson & Johnson', 'Shopify', 'Wells Fargo & Co.', 'Pfizer', 'Tesla', 'Interactive Brokers Group', 'MetLife', 'Meta Platforms', 'Netflix', 'Amazon', 'Salesforce', 'Block', 'Etsy', 'BP PLC', 'Intel'}\n"
     ]
    }
   ],
   "source": [
    "print (growth | value)"
   ]
  },
  {
   "cell_type": "code",
   "execution_count": 5,
   "id": "9e3671bb-8392-40f2-9dc5-bcc9156ecfff",
   "metadata": {
    "tags": []
   },
   "outputs": [
    {
     "name": "stdout",
     "output_type": "stream",
     "text": [
      "{'Meta Platforms', 'Alphabet', 'Salesforce', 'Amazon', 'Tesla'}\n"
     ]
    }
   ],
   "source": [
    "print (tech&growth)"
   ]
  },
  {
   "cell_type": "code",
   "execution_count": 7,
   "id": "44a04b45-2497-47e8-9bdd-b1544e694ed5",
   "metadata": {
    "tags": []
   },
   "outputs": [
    {
     "name": "stdout",
     "output_type": "stream",
     "text": [
      "{'Intel'}\n"
     ]
    }
   ],
   "source": [
    "print (tech&value)"
   ]
  },
  {
   "cell_type": "code",
   "execution_count": 8,
   "id": "a75325c6-99e1-4b22-8bb0-61a962ea5a4c",
   "metadata": {
    "tags": []
   },
   "outputs": [
    {
     "name": "stdout",
     "output_type": "stream",
     "text": [
      "{'Merck & Co.', 'Abbott Laboratories', 'Roche Holding', 'Thermo Fisher Scientific', 'Eli Lilly & Co.', 'Novo Nordisk', 'UnitedHealth Group'}\n"
     ]
    }
   ],
   "source": [
    "print (healthcare-value)"
   ]
  },
  {
   "cell_type": "code",
   "execution_count": 9,
   "id": "cce1a7d3-dc8c-4c40-a8fa-310b002643d2",
   "metadata": {
    "tags": []
   },
   "outputs": [
    {
     "name": "stdout",
     "output_type": "stream",
     "text": [
      "set()\n"
     ]
    }
   ],
   "source": [
    "print (tech&healthcare)"
   ]
  },
  {
   "cell_type": "code",
   "execution_count": 10,
   "id": "b0608fa0-477f-4103-b87c-857fc64308d7",
   "metadata": {
    "tags": []
   },
   "outputs": [
    {
     "name": "stdout",
     "output_type": "stream",
     "text": [
      "{'Alphabet', 'Meta Platforms', 'Amazon', 'Salesforce', 'Tesla', 'Intel'}\n"
     ]
    }
   ],
   "source": [
    "print (tech&(growth|value))"
   ]
  },
  {
   "cell_type": "code",
   "execution_count": null,
   "id": "23770ef9-bd6d-457b-b5eb-43b62e9b897f",
   "metadata": {},
   "outputs": [],
   "source": []
  }
 ],
 "metadata": {
  "kernelspec": {
   "display_name": "Python 3 (ipykernel)",
   "language": "python",
   "name": "python3"
  },
  "language_info": {
   "codemirror_mode": {
    "name": "ipython",
    "version": 3
   },
   "file_extension": ".py",
   "mimetype": "text/x-python",
   "name": "python",
   "nbconvert_exporter": "python",
   "pygments_lexer": "ipython3",
   "version": "3.11.5"
  }
 },
 "nbformat": 4,
 "nbformat_minor": 5
}
